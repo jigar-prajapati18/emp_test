{
 "cells": [
  {
   "cell_type": "code",
   "execution_count": 1,
   "metadata": {},
   "outputs": [],
   "source": [
    "import pandas as pd\n",
    "import numpy as np\n",
    "import matplotlib.pyplot as plt\n",
    "import seaborn as sns\n",
    "%matplotlib inline"
   ]
  },
  {
   "cell_type": "code",
   "execution_count": 6,
   "metadata": {},
   "outputs": [],
   "source": [
    "df = pd.read_csv(\"Employee-Income-Analysis.csv\", encoding='latin-1')"
   ]
  },
  {
   "cell_type": "code",
   "execution_count": 7,
   "metadata": {},
   "outputs": [
    {
     "data": {
      "text/plain": [
       "NAME                          object\n",
       "DEPARTMENT_NAME               object\n",
       "TITLE                         object\n",
       "REGULAR                      float64\n",
       "RETRO                        float64\n",
       "OTHER                        float64\n",
       "OVERTIME                     float64\n",
       "INJURED                      float64\n",
       "DETAIL                       float64\n",
       "QUINN/EDUCATION INCENTIVE    float64\n",
       "TOTAL EARNINGS               float64\n",
       "POSTAL                        object\n",
       "dtype: object"
      ]
     },
     "execution_count": 7,
     "metadata": {},
     "output_type": "execute_result"
    }
   ],
   "source": [
    "df.dtypes"
   ]
  },
  {
   "cell_type": "code",
   "execution_count": 8,
   "metadata": {},
   "outputs": [
    {
     "data": {
      "text/html": [
       "<div>\n",
       "<style scoped>\n",
       "    .dataframe tbody tr th:only-of-type {\n",
       "        vertical-align: middle;\n",
       "    }\n",
       "\n",
       "    .dataframe tbody tr th {\n",
       "        vertical-align: top;\n",
       "    }\n",
       "\n",
       "    .dataframe thead th {\n",
       "        text-align: right;\n",
       "    }\n",
       "</style>\n",
       "<table border=\"1\" class=\"dataframe\">\n",
       "  <thead>\n",
       "    <tr style=\"text-align: right;\">\n",
       "      <th></th>\n",
       "      <th>NAME</th>\n",
       "      <th>DEPARTMENT_NAME</th>\n",
       "      <th>TITLE</th>\n",
       "      <th>REGULAR</th>\n",
       "      <th>RETRO</th>\n",
       "      <th>OTHER</th>\n",
       "      <th>OVERTIME</th>\n",
       "      <th>INJURED</th>\n",
       "      <th>DETAIL</th>\n",
       "      <th>QUINN/EDUCATION INCENTIVE</th>\n",
       "      <th>TOTAL EARNINGS</th>\n",
       "      <th>POSTAL</th>\n",
       "    </tr>\n",
       "  </thead>\n",
       "  <tbody>\n",
       "    <tr>\n",
       "      <th>0</th>\n",
       "      <td>Abadi,Kidani A</td>\n",
       "      <td>Assessing Department</td>\n",
       "      <td>Property Officer</td>\n",
       "      <td>46291.98</td>\n",
       "      <td>NaN</td>\n",
       "      <td>300.0</td>\n",
       "      <td>NaN</td>\n",
       "      <td>NaN</td>\n",
       "      <td>NaN</td>\n",
       "      <td>NaN</td>\n",
       "      <td>46591.98</td>\n",
       "      <td>2118</td>\n",
       "    </tr>\n",
       "    <tr>\n",
       "      <th>1</th>\n",
       "      <td>Abasciano,Joseph</td>\n",
       "      <td>Boston Police Department</td>\n",
       "      <td>Police Officer</td>\n",
       "      <td>6933.66</td>\n",
       "      <td>NaN</td>\n",
       "      <td>850.0</td>\n",
       "      <td>205.92</td>\n",
       "      <td>74331.86</td>\n",
       "      <td>NaN</td>\n",
       "      <td>15258.44</td>\n",
       "      <td>97579.88</td>\n",
       "      <td>2132</td>\n",
       "    </tr>\n",
       "    <tr>\n",
       "      <th>2</th>\n",
       "      <td>Abban,Christopher John</td>\n",
       "      <td>Boston Fire Department</td>\n",
       "      <td>Fire Fighter</td>\n",
       "      <td>103442.22</td>\n",
       "      <td>NaN</td>\n",
       "      <td>550.0</td>\n",
       "      <td>15884.53</td>\n",
       "      <td>NaN</td>\n",
       "      <td>4746.5</td>\n",
       "      <td>NaN</td>\n",
       "      <td>124623.25</td>\n",
       "      <td>2132</td>\n",
       "    </tr>\n",
       "    <tr>\n",
       "      <th>3</th>\n",
       "      <td>Abbasi,Sophia</td>\n",
       "      <td>Green Academy</td>\n",
       "      <td>Manager (C) (non-ac)</td>\n",
       "      <td>18249.83</td>\n",
       "      <td>NaN</td>\n",
       "      <td>NaN</td>\n",
       "      <td>NaN</td>\n",
       "      <td>NaN</td>\n",
       "      <td>NaN</td>\n",
       "      <td>NaN</td>\n",
       "      <td>18249.83</td>\n",
       "      <td>2148</td>\n",
       "    </tr>\n",
       "    <tr>\n",
       "      <th>4</th>\n",
       "      <td>Abbate-Vaughn,Jorgelina</td>\n",
       "      <td>BPS Ellis Elementary</td>\n",
       "      <td>Teacher</td>\n",
       "      <td>84410.28</td>\n",
       "      <td>NaN</td>\n",
       "      <td>1250.0</td>\n",
       "      <td>NaN</td>\n",
       "      <td>NaN</td>\n",
       "      <td>NaN</td>\n",
       "      <td>NaN</td>\n",
       "      <td>85660.28</td>\n",
       "      <td>2481</td>\n",
       "    </tr>\n",
       "  </tbody>\n",
       "</table>\n",
       "</div>"
      ],
      "text/plain": [
       "                      NAME           DEPARTMENT_NAME                 TITLE  \\\n",
       "0           Abadi,Kidani A      Assessing Department      Property Officer   \n",
       "1         Abasciano,Joseph  Boston Police Department        Police Officer   \n",
       "2   Abban,Christopher John    Boston Fire Department          Fire Fighter   \n",
       "3            Abbasi,Sophia             Green Academy  Manager (C) (non-ac)   \n",
       "4  Abbate-Vaughn,Jorgelina      BPS Ellis Elementary               Teacher   \n",
       "\n",
       "     REGULAR  RETRO   OTHER  OVERTIME   INJURED  DETAIL  \\\n",
       "0   46291.98    NaN   300.0       NaN       NaN     NaN   \n",
       "1    6933.66    NaN   850.0    205.92  74331.86     NaN   \n",
       "2  103442.22    NaN   550.0  15884.53       NaN  4746.5   \n",
       "3   18249.83    NaN     NaN       NaN       NaN     NaN   \n",
       "4   84410.28    NaN  1250.0       NaN       NaN     NaN   \n",
       "\n",
       "   QUINN/EDUCATION INCENTIVE  TOTAL EARNINGS POSTAL  \n",
       "0                        NaN        46591.98   2118  \n",
       "1                   15258.44        97579.88   2132  \n",
       "2                        NaN       124623.25   2132  \n",
       "3                        NaN        18249.83   2148  \n",
       "4                        NaN        85660.28   2481  "
      ]
     },
     "execution_count": 8,
     "metadata": {},
     "output_type": "execute_result"
    }
   ],
   "source": [
    "df.head()"
   ]
  },
  {
   "cell_type": "code",
   "execution_count": 9,
   "metadata": {},
   "outputs": [],
   "source": [
    "df = df.fillna(0)"
   ]
  },
  {
   "cell_type": "code",
   "execution_count": 10,
   "metadata": {},
   "outputs": [
    {
     "data": {
      "text/html": [
       "<div>\n",
       "<style scoped>\n",
       "    .dataframe tbody tr th:only-of-type {\n",
       "        vertical-align: middle;\n",
       "    }\n",
       "\n",
       "    .dataframe tbody tr th {\n",
       "        vertical-align: top;\n",
       "    }\n",
       "\n",
       "    .dataframe thead th {\n",
       "        text-align: right;\n",
       "    }\n",
       "</style>\n",
       "<table border=\"1\" class=\"dataframe\">\n",
       "  <thead>\n",
       "    <tr style=\"text-align: right;\">\n",
       "      <th></th>\n",
       "      <th>NAME</th>\n",
       "      <th>DEPARTMENT_NAME</th>\n",
       "      <th>TITLE</th>\n",
       "      <th>REGULAR</th>\n",
       "      <th>RETRO</th>\n",
       "      <th>OTHER</th>\n",
       "      <th>OVERTIME</th>\n",
       "      <th>INJURED</th>\n",
       "      <th>DETAIL</th>\n",
       "      <th>QUINN/EDUCATION INCENTIVE</th>\n",
       "      <th>TOTAL EARNINGS</th>\n",
       "      <th>POSTAL</th>\n",
       "    </tr>\n",
       "  </thead>\n",
       "  <tbody>\n",
       "    <tr>\n",
       "      <th>0</th>\n",
       "      <td>Abadi,Kidani A</td>\n",
       "      <td>Assessing Department</td>\n",
       "      <td>Property Officer</td>\n",
       "      <td>46291.98</td>\n",
       "      <td>0.0</td>\n",
       "      <td>300.0</td>\n",
       "      <td>0.00</td>\n",
       "      <td>0.00</td>\n",
       "      <td>0.0</td>\n",
       "      <td>0.00</td>\n",
       "      <td>46591.98</td>\n",
       "      <td>2118</td>\n",
       "    </tr>\n",
       "    <tr>\n",
       "      <th>1</th>\n",
       "      <td>Abasciano,Joseph</td>\n",
       "      <td>Boston Police Department</td>\n",
       "      <td>Police Officer</td>\n",
       "      <td>6933.66</td>\n",
       "      <td>0.0</td>\n",
       "      <td>850.0</td>\n",
       "      <td>205.92</td>\n",
       "      <td>74331.86</td>\n",
       "      <td>0.0</td>\n",
       "      <td>15258.44</td>\n",
       "      <td>97579.88</td>\n",
       "      <td>2132</td>\n",
       "    </tr>\n",
       "    <tr>\n",
       "      <th>2</th>\n",
       "      <td>Abban,Christopher John</td>\n",
       "      <td>Boston Fire Department</td>\n",
       "      <td>Fire Fighter</td>\n",
       "      <td>103442.22</td>\n",
       "      <td>0.0</td>\n",
       "      <td>550.0</td>\n",
       "      <td>15884.53</td>\n",
       "      <td>0.00</td>\n",
       "      <td>4746.5</td>\n",
       "      <td>0.00</td>\n",
       "      <td>124623.25</td>\n",
       "      <td>2132</td>\n",
       "    </tr>\n",
       "    <tr>\n",
       "      <th>3</th>\n",
       "      <td>Abbasi,Sophia</td>\n",
       "      <td>Green Academy</td>\n",
       "      <td>Manager (C) (non-ac)</td>\n",
       "      <td>18249.83</td>\n",
       "      <td>0.0</td>\n",
       "      <td>0.0</td>\n",
       "      <td>0.00</td>\n",
       "      <td>0.00</td>\n",
       "      <td>0.0</td>\n",
       "      <td>0.00</td>\n",
       "      <td>18249.83</td>\n",
       "      <td>2148</td>\n",
       "    </tr>\n",
       "    <tr>\n",
       "      <th>4</th>\n",
       "      <td>Abbate-Vaughn,Jorgelina</td>\n",
       "      <td>BPS Ellis Elementary</td>\n",
       "      <td>Teacher</td>\n",
       "      <td>84410.28</td>\n",
       "      <td>0.0</td>\n",
       "      <td>1250.0</td>\n",
       "      <td>0.00</td>\n",
       "      <td>0.00</td>\n",
       "      <td>0.0</td>\n",
       "      <td>0.00</td>\n",
       "      <td>85660.28</td>\n",
       "      <td>2481</td>\n",
       "    </tr>\n",
       "  </tbody>\n",
       "</table>\n",
       "</div>"
      ],
      "text/plain": [
       "                      NAME           DEPARTMENT_NAME                 TITLE  \\\n",
       "0           Abadi,Kidani A      Assessing Department      Property Officer   \n",
       "1         Abasciano,Joseph  Boston Police Department        Police Officer   \n",
       "2   Abban,Christopher John    Boston Fire Department          Fire Fighter   \n",
       "3            Abbasi,Sophia             Green Academy  Manager (C) (non-ac)   \n",
       "4  Abbate-Vaughn,Jorgelina      BPS Ellis Elementary               Teacher   \n",
       "\n",
       "     REGULAR  RETRO   OTHER  OVERTIME   INJURED  DETAIL  \\\n",
       "0   46291.98    0.0   300.0      0.00      0.00     0.0   \n",
       "1    6933.66    0.0   850.0    205.92  74331.86     0.0   \n",
       "2  103442.22    0.0   550.0  15884.53      0.00  4746.5   \n",
       "3   18249.83    0.0     0.0      0.00      0.00     0.0   \n",
       "4   84410.28    0.0  1250.0      0.00      0.00     0.0   \n",
       "\n",
       "   QUINN/EDUCATION INCENTIVE  TOTAL EARNINGS POSTAL  \n",
       "0                       0.00        46591.98   2118  \n",
       "1                   15258.44        97579.88   2132  \n",
       "2                       0.00       124623.25   2132  \n",
       "3                       0.00        18249.83   2148  \n",
       "4                       0.00        85660.28   2481  "
      ]
     },
     "execution_count": 10,
     "metadata": {},
     "output_type": "execute_result"
    }
   ],
   "source": [
    "df.head()"
   ]
  },
  {
   "cell_type": "code",
   "execution_count": null,
   "metadata": {},
   "outputs": [],
   "source": []
  },
  {
   "cell_type": "code",
   "execution_count": 14,
   "metadata": {},
   "outputs": [],
   "source": [
    "#4. How does the job title, department impact an employee's pay? Is it possible to classify by these categories?"
   ]
  },
  {
   "cell_type": "code",
   "execution_count": 34,
   "metadata": {},
   "outputs": [],
   "source": [
    "df1 = df.groupby(['DEPARTMENT_NAME','TITLE'])['TOTAL EARNINGS'].mean().sort_values(ascending=False).head(30)\n"
   ]
  },
  {
   "cell_type": "markdown",
   "metadata": {},
   "source": [
    "# The job title, department impact an employee's pay. employee's in  some department and job title are getting more average salary then other department"
   ]
  },
  {
   "cell_type": "code",
   "execution_count": 35,
   "metadata": {},
   "outputs": [
    {
     "data": {
      "text/plain": [
       "<bound method NDFrame.head of DEPARTMENT_NAME           TITLE                         \n",
       "Boston Police Department  Police Sergeant/Hdq Dispatcher    290398.540000\n",
       "                          Police Lieutenant/Hdq Dispatch    283031.333333\n",
       "                          Police Lieut/Paid Detail Ser      279348.120000\n",
       "                          Police Captain                    267909.210000\n",
       "                          Police Captain-DDC/HRCD           266890.600000\n",
       "                          Dep Supn (Bpd)                    254927.868333\n",
       "                          Police Lieut (Det)                253332.240000\n",
       "                          Police Captain/DDC                251699.349375\n",
       "                          Commissioner (Bpd)                245305.080000\n",
       "                          Police Captain (Det)              243248.753333\n",
       "Boston Fire Department    Dep Fire Chief Administration     236105.782857\n",
       "Boston Police Department  Police Sergeant/Bomb Squad        232847.785000\n",
       "Boston Fire Department    Chief of Support Services         231706.750000\n",
       "Boston Police Department  Supn Bpd                          231436.971111\n",
       "                          Police Capt/DDC-Hackney Inves     226544.980000\n",
       "Boston Fire Department    Chief of Field Services           226244.200000\n",
       "Boston Police Department  Police Lieutenant (Det)           226131.772308\n",
       "Boston Fire Department    Dep Fire Chief                    225080.606250\n",
       "                          Frprs Electrical Equip Rprprs     222389.620000\n",
       "Superintendent            Superintendent                    222366.805000\n",
       "Boston Fire Department    Dist Fire Chief-Adm Asst Dvmtr    222149.630000\n",
       "                          DepFireChiefAdmn-AdvTechnician    215263.750000\n",
       "                          District FireChiefAdmn-AdvTech    214181.950000\n",
       "                          FCommissioner/Chief of theDept    213577.000000\n",
       "                          F Captain Admin Dvmstr            209970.580000\n",
       "Boston Police Department  Police Sergeant/CHF RADIO DISP    206582.781250\n",
       "Boston Fire Department    Fire Captain Admn-Advance Tech    206324.255000\n",
       "                          Wkg Frprs Elec Equip Repairprs    206320.030000\n",
       "                          District Fire Chief Admin-ADR     205210.080000\n",
       "Boston Police Department  Police Sergeant/Pd Det Serv       205050.285000\n",
       "Name: TOTAL EARNINGS, dtype: float64>"
      ]
     },
     "execution_count": 35,
     "metadata": {},
     "output_type": "execute_result"
    }
   ],
   "source": [
    "df1.head"
   ]
  },
  {
   "cell_type": "code",
   "execution_count": null,
   "metadata": {},
   "outputs": [],
   "source": [
    "#5. Are there any social trends that residents would care about? For example, which zip codes are home to the highest and lowest average paid employees? Can we identify geographic clusters of certain professions?"
   ]
  },
  {
   "cell_type": "code",
   "execution_count": 55,
   "metadata": {},
   "outputs": [],
   "source": [
    "df2 = df.groupby(['POSTAL'])['TOTAL EARNINGS'].mean().sort_values(ascending=False).head(30)\n"
   ]
  },
  {
   "cell_type": "code",
   "execution_count": 56,
   "metadata": {},
   "outputs": [
    {
     "data": {
      "text/plain": [
       "POSTAL\n",
       "3872     257554.270000\n",
       "92821    233283.910000\n",
       "2159     210813.320000\n",
       "2174     198230.020000\n",
       "1969     197166.530000\n",
       "2137     182831.780000\n",
       "2065     180072.080000\n",
       "2327     176883.850000\n",
       "96753    172999.160000\n",
       "2644     170933.730000\n",
       "2763     167684.870000\n",
       "2668     161776.360000\n",
       "1772     160086.348571\n",
       "1826     149419.005000\n",
       "1536     148183.390000\n",
       "1590     143228.920000\n",
       "37914    143095.670000\n",
       "2025     137524.673333\n",
       "2339     136933.809620\n",
       "1741     135308.570000\n",
       "2187     134038.840000\n",
       "1949     133695.467143\n",
       "2056     133462.459091\n",
       "2361     133394.970000\n",
       "2332     130811.235385\n",
       "1754     130531.205000\n",
       "2632     130210.310000\n",
       "3820     130182.000000\n",
       "2123     128997.765000\n",
       "32725    128975.540000\n",
       "Name: TOTAL EARNINGS, dtype: float64"
      ]
     },
     "execution_count": 56,
     "metadata": {},
     "output_type": "execute_result"
    }
   ],
   "source": [
    "df2"
   ]
  },
  {
   "cell_type": "markdown",
   "metadata": {},
   "source": [
    "# higest paid eployee by zip code"
   ]
  },
  {
   "cell_type": "code",
   "execution_count": 57,
   "metadata": {},
   "outputs": [
    {
     "data": {
      "text/plain": [
       "POSTAL\n",
       "3872    257554.27\n",
       "Name: TOTAL EARNINGS, dtype: float64"
      ]
     },
     "execution_count": 57,
     "metadata": {},
     "output_type": "execute_result"
    }
   ],
   "source": [
    "max_earn = df.groupby(['POSTAL'])['TOTAL EARNINGS'].mean().sort_values(ascending=False)[:1]\n",
    "max_earn\n"
   ]
  },
  {
   "cell_type": "markdown",
   "metadata": {},
   "source": [
    "# lowest paid eployee by zip code\n"
   ]
  },
  {
   "cell_type": "code",
   "execution_count": 58,
   "metadata": {},
   "outputs": [
    {
     "data": {
      "text/plain": [
       "POSTAL\n",
       "3908    17.5\n",
       "Name: TOTAL EARNINGS, dtype: float64"
      ]
     },
     "execution_count": 58,
     "metadata": {},
     "output_type": "execute_result"
    }
   ],
   "source": [
    "min_earn = df.groupby(['POSTAL'])['TOTAL EARNINGS'].mean().sort_values(ascending=False)[-1:]\n",
    "min_earn"
   ]
  },
  {
   "cell_type": "code",
   "execution_count": null,
   "metadata": {},
   "outputs": [],
   "source": []
  },
  {
   "cell_type": "code",
   "execution_count": null,
   "metadata": {},
   "outputs": [],
   "source": []
  }
 ],
 "metadata": {
  "kernelspec": {
   "display_name": "Python 3",
   "language": "python",
   "name": "python3"
  },
  "language_info": {
   "codemirror_mode": {
    "name": "ipython",
    "version": 3
   },
   "file_extension": ".py",
   "mimetype": "text/x-python",
   "name": "python",
   "nbconvert_exporter": "python",
   "pygments_lexer": "ipython3",
   "version": "3.7.0"
  }
 },
 "nbformat": 4,
 "nbformat_minor": 4
}
